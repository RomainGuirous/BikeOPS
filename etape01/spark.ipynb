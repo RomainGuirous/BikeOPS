{
 "cells": [
  {
   "cell_type": "code",
   "execution_count": 1,
   "id": "c5405106",
   "metadata": {},
   "outputs": [],
   "source": [
    "from pyspark.sql import SparkSession\n",
    "from pyspark.sql.functions import *\n",
    "from pyspark.sql.types import StringType, StructField, StringType, IntegerType\n",
    "\n",
    "spark = SparkSession.builder.master(\"local\").getOrCreate()\n",
    "sc = spark.sparkContext"
   ]
  },
  {
   "cell_type": "markdown",
   "id": "471aa91f",
   "metadata": {},
   "source": [
    "**Lecture CSV**"
   ]
  },
  {
   "cell_type": "markdown",
   "id": "a948e907",
   "metadata": {},
   "source": []
  },
  {
   "cell_type": "code",
   "execution_count": null,
   "id": "77da2a1e",
   "metadata": {},
   "outputs": [
    {
     "name": "stdout",
     "output_type": "stream",
     "text": [
      "+----------+------------------+---------+--------+--------+\n",
      "|station_id|      station_name|      lat|     lon|capacity|\n",
      "+----------+------------------+---------+--------+--------+\n",
      "|       100|Lille - Station 01|50.638789| 3.04875|      24|\n",
      "|       101|Lille - Station 02|50.630898|3.052186|      16|\n",
      "|       102|Lille - Station 03|50.639534|3.074765|      16|\n",
      "|       103|Lille - Station 04| 50.63781|3.048953|      16|\n",
      "|       104|Lille - Station 05|50.630373|3.063161|      16|\n",
      "+----------+------------------+---------+--------+--------+\n",
      "only showing top 5 rows\n",
      "\n"
     ]
    }
   ],
   "source": [
    "df_availability = spark.read.options(header=True, inferSchema=True, sep=\";\", mode= \"PERMISSIVE\").csv('../data_raw/availability_raw.csv')\n",
    "# df_availability = spark.read.options(header=True, inferSchema=True, sep=\";\", mode= \"DROPMALFORMED\").csv('../data_raw/availability_raw.csv')\n",
    "# df_availability = spark.read.options(header=True, inferSchema=True, sep=\";\", mode= \"FAILFAST\").csv('../data_raw/availability_raw.csv')\n",
    "df_weather = spark.read.options(header=True, inferSchema=True, sep=\";\", mode= \"PERMISSIVE\").csv('../data_raw/weather_raw.csv')\n",
    "# df_weather = spark.read.options(header=True, inferSchema=True, sep=\";\", mode= \"DROPMALFORMED\").csv('../data_raw/weather_raw.csv')\n",
    "# df_weather = spark.read.options(header=True, inferSchema=True, sep=\";\", mode= \"FAILFAST\").csv('../data_raw/weather_raw.csv')\n",
    "df_stations = spark.read.options(header=True, inferSchema=True, sep=\",\", mode= \"PERMISSIVE\").csv('../data_raw/stations.csv')\n",
    "# df_stations = spark.read.options(header=True, inferSchema=True, sep=\",\", mode= \"DROPMALFORMED\").csv('../data_raw/stations.csv')\n",
    "# df_stations = spark.read.options(header=True, inferSchema=True, sep=\",\", mode= \"FAILFAST\").csv('../data_raw/stations.csv')\n",
    "\n",
    "# df_availability.show(5)\n",
    "# df_weather.show(5)\n",
    "df_stations.show(5)"
   ]
  }
 ],
 "metadata": {
  "kernelspec": {
   "display_name": "Python 3",
   "language": "python",
   "name": "python3"
  },
  "language_info": {
   "codemirror_mode": {
    "name": "ipython",
    "version": 3
   },
   "file_extension": ".py",
   "mimetype": "text/x-python",
   "name": "python",
   "nbconvert_exporter": "python",
   "pygments_lexer": "ipython3",
   "version": "3.11.9"
  }
 },
 "nbformat": 4,
 "nbformat_minor": 5
}
